{
 "cells": [
  {
   "cell_type": "code",
   "execution_count": 1,
   "id": "1c456346-58e7-4ca5-a7d1-c73f632c57f3",
   "metadata": {},
   "outputs": [
    {
     "name": "stdout",
     "output_type": "stream",
     "text": [
      "/home/rs/PycharmProjects/snake-multi/.venv/bin/python3.10\n"
     ]
    }
   ],
   "source": [
    "import sys\n",
    "print(sys.executable)"
   ]
  },
  {
   "cell_type": "code",
   "execution_count": 2,
   "id": "01cfda99-da70-4d22-9e62-e1b9855ef5f3",
   "metadata": {},
   "outputs": [
    {
     "data": {
      "text/plain": [
       "'/home/rs/PycharmProjects/snake-multi'"
      ]
     },
     "execution_count": 2,
     "metadata": {},
     "output_type": "execute_result"
    }
   ],
   "source": [
    "import os\n",
    "os.chdir(\"../..\")\n",
    "os.getcwd()"
   ]
  },
  {
   "cell_type": "code",
   "execution_count": 3,
   "id": "c35b3e03-0061-4f07-8b59-9c2de566d6aa",
   "metadata": {},
   "outputs": [
    {
     "name": "stderr",
     "output_type": "stream",
     "text": [
      "2025-09-12 15:03:44.692238: E external/local_xla/xla/stream_executor/cuda/cuda_fft.cc:467] Unable to register cuFFT factory: Attempting to register factory for plugin cuFFT when one has already been registered\n",
      "WARNING: All log messages before absl::InitializeLog() is called are written to STDERR\n",
      "E0000 00:00:1757682224.703574  461569 cuda_dnn.cc:8579] Unable to register cuDNN factory: Attempting to register factory for plugin cuDNN when one has already been registered\n",
      "E0000 00:00:1757682224.707147  461569 cuda_blas.cc:1407] Unable to register cuBLAS factory: Attempting to register factory for plugin cuBLAS when one has already been registered\n",
      "W0000 00:00:1757682224.716795  461569 computation_placer.cc:177] computation placer already registered. Please check linkage and avoid linking the same target more than once.\n",
      "W0000 00:00:1757682224.716808  461569 computation_placer.cc:177] computation placer already registered. Please check linkage and avoid linking the same target more than once.\n",
      "W0000 00:00:1757682224.716810  461569 computation_placer.cc:177] computation placer already registered. Please check linkage and avoid linking the same target more than once.\n",
      "W0000 00:00:1757682224.716811  461569 computation_placer.cc:177] computation placer already registered. Please check linkage and avoid linking the same target more than once.\n",
      "2025-09-12 15:03:44.721190: I tensorflow/core/platform/cpu_feature_guard.cc:210] This TensorFlow binary is optimized to use available CPU instructions in performance-critical operations.\n",
      "To enable the following instructions: AVX2 FMA, in other operations, rebuild TensorFlow with the appropriate compiler flags.\n"
     ]
    }
   ],
   "source": [
    "import random\n",
    "import logging\n",
    "import sys\n",
    "from collections import deque\n",
    "from functools import partial\n",
    "from math import floor, ceil\n",
    "from pathlib import Path\n",
    "\n",
    "import tensorflow as tf\n",
    "import numpy as np\n",
    "import seaborn as sns\n",
    "import matplotlib.pyplot as plt\n",
    "\n",
    "from src.simulation.simulation import Simulation, Vector2\n",
    "from src.simulation.board_generator import make_simple_board\n",
    "\n",
    "from src.model.model_utils import get_model_moves, get_model_scores, get_rotated_state, ReplayBuffer\n",
    "\n",
    "tf.config.experimental.set_memory_growth(tf.config.list_physical_devices(\"GPU\")[0], True)"
   ]
  },
  {
   "cell_type": "code",
   "execution_count": 4,
   "id": "daccee82-833b-40cb-8d92-59b8082d83b3",
   "metadata": {},
   "outputs": [
    {
     "name": "stderr",
     "output_type": "stream",
     "text": [
      "I0000 00:00:1757682226.454500  461569 gpu_device.cc:2019] Created device /job:localhost/replica:0/task:0/device:GPU:0 with 1644 MB memory:  -> device: 0, name: NVIDIA GeForce GTX 1060 3GB, pci bus id: 0000:01:00.0, compute capability: 6.1\n"
     ]
    }
   ],
   "source": [
    "view_range = 7\n",
    "\n",
    "replay_buffer_size = 50_000\n",
    "replay_buffer_threshold_multiplier = 1.3\n",
    "\n",
    "discount_factor = 0.9\n",
    "\n",
    "batch_size = 32\n",
    "loss_fn = tf.keras.losses.mse\n",
    "optimizer = tf.keras.optimizers.Nadam(learning_rate=0.001)\n",
    "\n",
    "n_episodes = 100_000\n",
    "\n",
    "best_model_window = 7"
   ]
  },
  {
   "cell_type": "code",
   "execution_count": 5,
   "id": "5dceffbf-b19a-4665-a9d2-6327d543543d",
   "metadata": {},
   "outputs": [],
   "source": [
    "def calculate_score(ate_food: bool, died: bool):\n",
    "    if died:\n",
    "        return -10\n",
    "\n",
    "    if ate_food:\n",
    "        return 10\n",
    "\n",
    "    return 0"
   ]
  },
  {
   "cell_type": "code",
   "execution_count": 6,
   "id": "fe9d561b-3043-4e7d-bc05-769d54539a59",
   "metadata": {},
   "outputs": [],
   "source": [
    "Dense = partial(tf.keras.layers.Dense, activation=\"relu\", kernel_initializer=\"he_normal\")\n",
    "\n",
    "online_model = tf.keras.Sequential([\n",
    "    tf.keras.layers.Input((5 * 8,)),\n",
    "    tf.keras.layers.Rescaling(2 / view_range, -1),\n",
    "    Dense(64),\n",
    "    Dense(64),\n",
    "    Dense(64),\n",
    "    tf.keras.layers.Dense(1)\n",
    "])\n",
    "\n",
    "target_model = tf.keras.models.clone_model(online_model)\n",
    "target_model.set_weights(online_model.get_weights())\n",
    "\n",
    "view_type = \"diagonal\""
   ]
  },
  {
   "cell_type": "code",
   "execution_count": 7,
   "id": "b8f37444-ca0a-43b1-8140-8760e68b8c80",
   "metadata": {},
   "outputs": [],
   "source": [
    "model_name = f\"r{view_range}_{view_type}_rb_{str(replay_buffer_threshold_multiplier).replace('.', '_')}_e_{n_episodes}_lr_{optimizer.learning_rate}_timeout\"\n",
    "\n",
    "model_name += \"timeout_scaling\"\n",
    "\n",
    "model_name = \"test\""
   ]
  },
  {
   "cell_type": "code",
   "execution_count": 8,
   "id": "61ba69ff-e773-44fc-9059-1cf8588877d8",
   "metadata": {},
   "outputs": [],
   "source": [
    "for i in range(100):\n",
    "    file_path = Path(f\"logs_{model_name}_v{i}.log\")\n",
    "\n",
    "    if not file_path.is_file():\n",
    "        break\n",
    "else:\n",
    "    raise RuntimeError(\"If it's not a bug, train less models\")\n",
    "\n",
    "logging.basicConfig(level=logging.DEBUG)\n",
    "\n",
    "log_formatter = logging.Formatter(\"%(message)s\")\n",
    "\n",
    "std_handler = logging.StreamHandler(sys.stdout)\n",
    "std_handler.setLevel(logging.INFO)\n",
    "std_handler.setFormatter(log_formatter)\n",
    "\n",
    "file_handler = logging.FileHandler(file_path)\n",
    "file_handler.setLevel(logging.INFO)\n",
    "file_handler.setFormatter(log_formatter)\n",
    "\n",
    "logger = logging.getLogger()\n",
    "logger.handlers.clear()\n",
    "#logger.addHandler(std_handler)\n",
    "logger.addHandler(file_handler)"
   ]
  },
  {
   "cell_type": "code",
   "execution_count": 9,
   "id": "b3400b2a-7e2c-4ed1-a01e-4007cdecb3c5",
   "metadata": {},
   "outputs": [
    {
     "data": {
      "text/html": [
       "<pre style=\"white-space:pre;overflow-x:auto;line-height:normal;font-family:Menlo,'DejaVu Sans Mono',consolas,'Courier New',monospace\"></pre>\n"
      ],
      "text/plain": []
     },
     "metadata": {},
     "output_type": "display_data"
    },
    {
     "data": {
      "text/html": [
       "<pre style=\"white-space:pre;overflow-x:auto;line-height:normal;font-family:Menlo,'DejaVu Sans Mono',consolas,'Courier New',monospace\"><span style=\"font-weight: bold\">Model: \"sequential\"</span>\n",
       "</pre>\n"
      ],
      "text/plain": [
       "\u001b[1mModel: \"sequential\"\u001b[0m\n"
      ]
     },
     "metadata": {},
     "output_type": "display_data"
    },
    {
     "data": {
      "text/html": [
       "<pre style=\"white-space:pre;overflow-x:auto;line-height:normal;font-family:Menlo,'DejaVu Sans Mono',consolas,'Courier New',monospace\">┏━━━━━━━━━━━━━━━━━━━━━━━━━━━━━━━━━┳━━━━━━━━━━━━━━━━━━━━━━━━┳━━━━━━━━━━━━━━━┓\n",
       "┃<span style=\"font-weight: bold\"> Layer (type)                    </span>┃<span style=\"font-weight: bold\"> Output Shape           </span>┃<span style=\"font-weight: bold\">       Param # </span>┃\n",
       "┡━━━━━━━━━━━━━━━━━━━━━━━━━━━━━━━━━╇━━━━━━━━━━━━━━━━━━━━━━━━╇━━━━━━━━━━━━━━━┩\n",
       "│ dense (<span style=\"color: #0087ff; text-decoration-color: #0087ff\">Dense</span>)                   │ (<span style=\"color: #00d7ff; text-decoration-color: #00d7ff\">None</span>, <span style=\"color: #00af00; text-decoration-color: #00af00\">64</span>)             │         <span style=\"color: #00af00; text-decoration-color: #00af00\">2,624</span> │\n",
       "├─────────────────────────────────┼────────────────────────┼───────────────┤\n",
       "│ dense_1 (<span style=\"color: #0087ff; text-decoration-color: #0087ff\">Dense</span>)                 │ (<span style=\"color: #00d7ff; text-decoration-color: #00d7ff\">None</span>, <span style=\"color: #00af00; text-decoration-color: #00af00\">64</span>)             │         <span style=\"color: #00af00; text-decoration-color: #00af00\">4,160</span> │\n",
       "├─────────────────────────────────┼────────────────────────┼───────────────┤\n",
       "│ dense_2 (<span style=\"color: #0087ff; text-decoration-color: #0087ff\">Dense</span>)                 │ (<span style=\"color: #00d7ff; text-decoration-color: #00d7ff\">None</span>, <span style=\"color: #00af00; text-decoration-color: #00af00\">64</span>)             │         <span style=\"color: #00af00; text-decoration-color: #00af00\">4,160</span> │\n",
       "├─────────────────────────────────┼────────────────────────┼───────────────┤\n",
       "│ dense_3 (<span style=\"color: #0087ff; text-decoration-color: #0087ff\">Dense</span>)                 │ (<span style=\"color: #00d7ff; text-decoration-color: #00d7ff\">None</span>, <span style=\"color: #00af00; text-decoration-color: #00af00\">1</span>)              │            <span style=\"color: #00af00; text-decoration-color: #00af00\">65</span> │\n",
       "└─────────────────────────────────┴────────────────────────┴───────────────┘\n",
       "</pre>\n"
      ],
      "text/plain": [
       "┏━━━━━━━━━━━━━━━━━━━━━━━━━━━━━━━━━┳━━━━━━━━━━━━━━━━━━━━━━━━┳━━━━━━━━━━━━━━━┓\n",
       "┃\u001b[1m \u001b[0m\u001b[1mLayer (type)                   \u001b[0m\u001b[1m \u001b[0m┃\u001b[1m \u001b[0m\u001b[1mOutput Shape          \u001b[0m\u001b[1m \u001b[0m┃\u001b[1m \u001b[0m\u001b[1m      Param #\u001b[0m\u001b[1m \u001b[0m┃\n",
       "┡━━━━━━━━━━━━━━━━━━━━━━━━━━━━━━━━━╇━━━━━━━━━━━━━━━━━━━━━━━━╇━━━━━━━━━━━━━━━┩\n",
       "│ dense (\u001b[38;5;33mDense\u001b[0m)                   │ (\u001b[38;5;45mNone\u001b[0m, \u001b[38;5;34m64\u001b[0m)             │         \u001b[38;5;34m2,624\u001b[0m │\n",
       "├─────────────────────────────────┼────────────────────────┼───────────────┤\n",
       "│ dense_1 (\u001b[38;5;33mDense\u001b[0m)                 │ (\u001b[38;5;45mNone\u001b[0m, \u001b[38;5;34m64\u001b[0m)             │         \u001b[38;5;34m4,160\u001b[0m │\n",
       "├─────────────────────────────────┼────────────────────────┼───────────────┤\n",
       "│ dense_2 (\u001b[38;5;33mDense\u001b[0m)                 │ (\u001b[38;5;45mNone\u001b[0m, \u001b[38;5;34m64\u001b[0m)             │         \u001b[38;5;34m4,160\u001b[0m │\n",
       "├─────────────────────────────────┼────────────────────────┼───────────────┤\n",
       "│ dense_3 (\u001b[38;5;33mDense\u001b[0m)                 │ (\u001b[38;5;45mNone\u001b[0m, \u001b[38;5;34m1\u001b[0m)              │            \u001b[38;5;34m65\u001b[0m │\n",
       "└─────────────────────────────────┴────────────────────────┴───────────────┘\n"
      ]
     },
     "metadata": {},
     "output_type": "display_data"
    },
    {
     "data": {
      "text/html": [
       "<pre style=\"white-space:pre;overflow-x:auto;line-height:normal;font-family:Menlo,'DejaVu Sans Mono',consolas,'Courier New',monospace\"><span style=\"font-weight: bold\"> Total params: </span><span style=\"color: #00af00; text-decoration-color: #00af00\">11,009</span> (43.00 KB)\n",
       "</pre>\n"
      ],
      "text/plain": [
       "\u001b[1m Total params: \u001b[0m\u001b[38;5;34m11,009\u001b[0m (43.00 KB)\n"
      ]
     },
     "metadata": {},
     "output_type": "display_data"
    },
    {
     "data": {
      "text/html": [
       "<pre style=\"white-space:pre;overflow-x:auto;line-height:normal;font-family:Menlo,'DejaVu Sans Mono',consolas,'Courier New',monospace\"><span style=\"font-weight: bold\"> Trainable params: </span><span style=\"color: #00af00; text-decoration-color: #00af00\">11,009</span> (43.00 KB)\n",
       "</pre>\n"
      ],
      "text/plain": [
       "\u001b[1m Trainable params: \u001b[0m\u001b[38;5;34m11,009\u001b[0m (43.00 KB)\n"
      ]
     },
     "metadata": {},
     "output_type": "display_data"
    },
    {
     "data": {
      "text/html": [
       "<pre style=\"white-space:pre;overflow-x:auto;line-height:normal;font-family:Menlo,'DejaVu Sans Mono',consolas,'Courier New',monospace\"><span style=\"font-weight: bold\"> Non-trainable params: </span><span style=\"color: #00af00; text-decoration-color: #00af00\">0</span> (0.00 B)\n",
       "</pre>\n"
      ],
      "text/plain": [
       "\u001b[1m Non-trainable params: \u001b[0m\u001b[38;5;34m0\u001b[0m (0.00 B)\n"
      ]
     },
     "metadata": {},
     "output_type": "display_data"
    }
   ],
   "source": [
    "online_model.summary(print_fn=logger.info)\n",
    "online_model.summary()"
   ]
  },
  {
   "cell_type": "code",
   "execution_count": 10,
   "id": "dff23521-cc83-4c53-9121-701a914b7752",
   "metadata": {},
   "outputs": [
    {
     "name": "stdout",
     "output_type": "stream",
     "text": [
      "\u001b[1m1/1\u001b[0m \u001b[32m━━━━━━━━━━━━━━━━━━━━\u001b[0m\u001b[37m\u001b[0m \u001b[1m0s\u001b[0m 142ms/step\n"
     ]
    },
    {
     "name": "stderr",
     "output_type": "stream",
     "text": [
      "WARNING: All log messages before absl::InitializeLog() is called are written to STDERR\n",
      "I0000 00:00:1757682227.001206  461642 service.cc:152] XLA service 0x7fd6740053e0 initialized for platform CUDA (this does not guarantee that XLA will be used). Devices:\n",
      "I0000 00:00:1757682227.001225  461642 service.cc:160]   StreamExecutor device (0): NVIDIA GeForce GTX 1060 3GB, Compute Capability 6.1\n",
      "2025-09-12 15:03:47.005811: I tensorflow/compiler/mlir/tensorflow/utils/dump_mlir_util.cc:269] disabling MLIR crash reproducer, set env var `MLIR_CRASH_REPRODUCER_DIRECTORY` to enable.\n",
      "I0000 00:00:1757682227.019692  461642 cuda_dnn.cc:529] Loaded cuDNN version 90300\n",
      "I0000 00:00:1757682227.099635  461642 device_compiler.h:188] Compiled cluster using XLA!  This line is logged at most once for the lifetime of the process.\n"
     ]
    },
    {
     "data": {
      "text/plain": [
       "array([[14.963371]], dtype=float32)"
      ]
     },
     "execution_count": 10,
     "metadata": {},
     "output_type": "execute_result"
    }
   ],
   "source": [
    "# Make sure model takes correct input\n",
    "simulation = Simulation(calculate_score, False)\n",
    "simulation.reset(make_simple_board(np.array([view_range * 2 + 1, view_range * 2 + 1])), 2, 1, 1)\n",
    "\n",
    "online_model.predict(np.array([simulation.get_snake_view(0, view_type, view_range)]))"
   ]
  },
  {
   "cell_type": "code",
   "execution_count": 11,
   "id": "e3d10c28-6166-453f-af12-fc5e93fc8ca9",
   "metadata": {},
   "outputs": [],
   "source": [
    "def epsilon_greedy(snakes_states: list[np.ndarray], snakes_possible_moves: list[list[Vector2]], snakes_alive: list[bool], epsilon: float=0.):\n",
    "    n_snakes = len(snakes_states)\n",
    "\n",
    "    process_mask = [True for _ in range(n_snakes)]\n",
    "    \n",
    "    for i, alive in enumerate(snakes_alive):\n",
    "        if not alive or np.random.rand() < epsilon:\n",
    "            process_mask[i] = False\n",
    "\n",
    "    moves = get_model_moves(online_model, snakes_states, snakes_possible_moves, process_mask, softmax=True)\n",
    "\n",
    "    for i, move in enumerate(moves):\n",
    "        if move == (0, 0):\n",
    "            moves[i] = random.choice(simulation.get_legal_moves(i))\n",
    "\n",
    "    return moves"
   ]
  },
  {
   "cell_type": "code",
   "execution_count": 12,
   "id": "560f3b77-eff6-4a8c-b23e-019788dd25b3",
   "metadata": {},
   "outputs": [],
   "source": [
    "#priority_replay_buffer = deque(maxlen=replay_buffer_size // 2)\n",
    "#replay_buffer = deque(maxlen=replay_buffer_size // 2)\n",
    "\n",
    "replay_buffer = ReplayBuffer(\n",
    "    priority_size=replay_buffer_size // 2,\n",
    "    normal_size=replay_buffer_size // 2,\n",
    "    threshold_multiplier=replay_buffer_threshold_multiplier\n",
    ")"
   ]
  },
  {
   "cell_type": "code",
   "execution_count": 13,
   "id": "680203fa-c1f0-49ee-ac99-f325b3bed794",
   "metadata": {},
   "outputs": [],
   "source": [
    "def play_one_step(simulation: Simulation, states_before: list[np.ndarray], possible_moves_before: list[Vector2], snakes_alive_before: list[bool], epsilon: float):\n",
    "    # Save states\n",
    "    moves = epsilon_greedy(states_before, possible_moves_before, snakes_alive_before, epsilon)\n",
    "\n",
    "    scores, running = simulation.next(moves)\n",
    "\n",
    "    states_after = [simulation.get_snake_view(i, view_type, view_range) for i in range(simulation.n_snakes)]\n",
    "    possible_moves_after = [simulation.get_legal_moves(i) for i in range(simulation.n_snakes)]\n",
    "    snakes_alive_after = simulation.snakes_alive\n",
    "\n",
    "    for i in range(len(states_before)):\n",
    "        if snakes_alive_before[i]:\n",
    "            replay_buffer.append((states_before[i], moves[i], scores[i], states_after[i], possible_moves_after[i], snakes_alive_after[i]))\n",
    "\n",
    "    return states_after, possible_moves_after, snakes_alive_after, scores, running"
   ]
  },
  {
   "cell_type": "code",
   "execution_count": 14,
   "id": "8cb2f51b-7b10-487f-871e-6db93422d811",
   "metadata": {},
   "outputs": [],
   "source": [
    "def sample_experiences(batch_size: int):\n",
    "    idxs = np.random.randint(len(replay_buffer), size=batch_size)\n",
    "    \n",
    "    batch = [replay_buffer[idx] for idx in idxs]\n",
    "\n",
    "    return [\n",
    "        [experience[field_idx] for experience in batch]\n",
    "        for field_idx in range(6)\n",
    "    ]"
   ]
  },
  {
   "cell_type": "code",
   "execution_count": 15,
   "id": "40a5371d-b644-46db-ba3c-ddf141903eef",
   "metadata": {},
   "outputs": [],
   "source": [
    "losses = []\n",
    "\n",
    "\n",
    "def training_step(buffer_split: float):\n",
    "    #experiences = sample_experiences(batch_size)\n",
    "    experiences = replay_buffer.sample(split=buffer_split, batch_size=batch_size)\n",
    "    states, moves, scores, states_after, possible_moves_after, snakes_alive_after = experiences\n",
    "\n",
    "    best_next_moves = [[move] for move in get_model_moves(online_model, states_after, possible_moves_after, snakes_alive_after)]\n",
    "    next_q_values = get_model_scores(target_model, states_after, best_next_moves, snakes_alive_after)\n",
    "    \n",
    "    #next_q_values = get_model_scores(target_model, states_after, possible_moves_after, snakes_alive_after)\n",
    "    runs = 1.0 - np.array(snakes_alive_after)\n",
    "    \n",
    "    target_q_values = scores + runs * discount_factor * next_q_values\n",
    "\n",
    "    X = tf.constant([get_rotated_state(state, move) for state, move in zip(states, moves)])\n",
    "    \n",
    "    with tf.GradientTape() as tape:\n",
    "        predicted_q_values = online_model(X)\n",
    "        individual_losses = loss_fn(target_q_values, predicted_q_values)\n",
    "        loss = tf.reduce_mean(individual_losses)\n",
    "\n",
    "    replay_buffer.update_loss(individual_losses, loss)\n",
    "\n",
    "    losses.append(loss.numpy())\n",
    "    grads = tape.gradient(loss, online_model.trainable_variables)\n",
    "    optimizer.apply_gradients(zip(grads, online_model.trainable_variables))"
   ]
  },
  {
   "cell_type": "code",
   "execution_count": 16,
   "id": "5b34dd6a-b936-4ab2-832f-325145024853",
   "metadata": {
    "scrolled": true
   },
   "outputs": [
    {
     "name": "stderr",
     "output_type": "stream",
     "text": [
      "\n",
      "KeyboardInterrupt\n",
      "\n"
     ]
    }
   ],
   "source": [
    "simulation = Simulation(calculate_score, True)\n",
    "rewards = []\n",
    "steps = []\n",
    "replay_buffer.clear()\n",
    "\n",
    "best_model_rewards = float(\"-inf\")\n",
    "\n",
    "for episode in range(n_episodes):\n",
    "    simulation.reset(make_simple_board(np.array([15, 15])), snake_count=1, food_count=1, tail_len=2)\n",
    "\n",
    "    rewards.append(0)\n",
    "\n",
    "    states = [simulation.get_snake_view(i, view_type, view_range) for i in range(simulation.n_snakes)]\n",
    "    possible_moves = [simulation.get_legal_moves(i) for i in range(simulation.n_snakes)]\n",
    "    snakes_alive = simulation.snakes_alive\n",
    "    \n",
    "    epsilon = max(1 - (episode / (n_episodes * 0.8)), 0.005)\n",
    "    priority_buffer_split = min(episode / (n_episodes * 0.8) * 0.2, 0.2)\n",
    "\n",
    "    step = 0\n",
    "    \n",
    "    while True:\n",
    "        states, possible_moves, snakes_alive, scores, running = play_one_step(simulation, states, possible_moves, snakes_alive, epsilon)\n",
    "\n",
    "        rewards[-1] += sum(scores)\n",
    "\n",
    "        if not running:\n",
    "            break\n",
    "\n",
    "        step += 1\n",
    "\n",
    "    steps.append(step)\n",
    "\n",
    "    logging.info(f\"Episode {episode} played\")\n",
    "    logging.info(f\"\\tSteps: {step}\")\n",
    "    logging.info(f\"\\tRewards: {rewards[-1]}\")\n",
    "\n",
    "    if episode > 200:\n",
    "        curr_model_rewards = sum(rewards[-best_model_window:])\n",
    "        if curr_model_rewards > best_model_rewards:\n",
    "            avg_rewards = curr_model_rewards / best_model_window\n",
    "            best_model_rewards = curr_model_rewards\n",
    "            logging.info(f\"\\tSnaphshot saved (avg. {avg_rewards})\")\n",
    "            \n",
    "            if model_name:\n",
    "                online_model.save(f\"models/{model_name}_{round(avg_rewards)}_snapshot.keras\")\n",
    "\n",
    "        training_step(priority_buffer_split)\n",
    "        \n",
    "        logger.info(f\"\\tPriority: {len(replay_buffer.priority_buffer)}\")\n",
    "        \n",
    "        if episode % 100 == 0:\n",
    "            target_model.set_weights(online_model.get_weights())\n",
    "            logging.info(\"\\tTarget model updated\")"
   ]
  }
 ],
 "metadata": {
  "kernelspec": {
   "display_name": "Python 3 (ipykernel)",
   "language": "python",
   "name": "python3"
  },
  "language_info": {
   "codemirror_mode": {
    "name": "ipython",
    "version": 3
   },
   "file_extension": ".py",
   "mimetype": "text/x-python",
   "name": "python",
   "nbconvert_exporter": "python",
   "pygments_lexer": "ipython3",
   "version": "3.10.18"
  }
 },
 "nbformat": 4,
 "nbformat_minor": 5
}
