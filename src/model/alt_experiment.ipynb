{
 "cells": [
  {
   "cell_type": "code",
   "execution_count": 1,
   "id": "1c456346-58e7-4ca5-a7d1-c73f632c57f3",
   "metadata": {},
   "outputs": [
    {
     "name": "stdout",
     "output_type": "stream",
     "text": [
      "/mnt/d2ddf6ba-3ea2-45b7-a8f7-2760a03a911a/snake-multi/.venv/bin/python3\n"
     ]
    }
   ],
   "source": [
    "import sys\n",
    "print(sys.executable)"
   ]
  },
  {
   "cell_type": "code",
   "execution_count": 2,
   "id": "01cfda99-da70-4d22-9e62-e1b9855ef5f3",
   "metadata": {},
   "outputs": [
    {
     "data": {
      "text/plain": [
       "'/mnt/d2ddf6ba-3ea2-45b7-a8f7-2760a03a911a/snake-multi'"
      ]
     },
     "execution_count": 2,
     "metadata": {},
     "output_type": "execute_result"
    }
   ],
   "source": [
    "import os\n",
    "os.chdir(\"../..\")\n",
    "os.getcwd()"
   ]
  },
  {
   "cell_type": "code",
   "execution_count": 3,
   "id": "c35b3e03-0061-4f07-8b59-9c2de566d6aa",
   "metadata": {},
   "outputs": [
    {
     "name": "stderr",
     "output_type": "stream",
     "text": [
      "2025-09-01 14:22:32.337441: I tensorflow/core/util/port.cc:153] oneDNN custom operations are on. You may see slightly different numerical results due to floating-point round-off errors from different computation orders. To turn them off, set the environment variable `TF_ENABLE_ONEDNN_OPTS=0`.\n",
      "2025-09-01 14:22:32.345521: E external/local_xla/xla/stream_executor/cuda/cuda_fft.cc:467] Unable to register cuFFT factory: Attempting to register factory for plugin cuFFT when one has already been registered\n",
      "WARNING: All log messages before absl::InitializeLog() is called are written to STDERR\n",
      "E0000 00:00:1756729352.354136 1617802 cuda_dnn.cc:8579] Unable to register cuDNN factory: Attempting to register factory for plugin cuDNN when one has already been registered\n",
      "E0000 00:00:1756729352.356774 1617802 cuda_blas.cc:1407] Unable to register cuBLAS factory: Attempting to register factory for plugin cuBLAS when one has already been registered\n",
      "W0000 00:00:1756729352.363810 1617802 computation_placer.cc:177] computation placer already registered. Please check linkage and avoid linking the same target more than once.\n",
      "W0000 00:00:1756729352.363821 1617802 computation_placer.cc:177] computation placer already registered. Please check linkage and avoid linking the same target more than once.\n",
      "W0000 00:00:1756729352.363822 1617802 computation_placer.cc:177] computation placer already registered. Please check linkage and avoid linking the same target more than once.\n",
      "W0000 00:00:1756729352.363822 1617802 computation_placer.cc:177] computation placer already registered. Please check linkage and avoid linking the same target more than once.\n",
      "2025-09-01 14:22:32.366895: I tensorflow/core/platform/cpu_feature_guard.cc:210] This TensorFlow binary is optimized to use available CPU instructions in performance-critical operations.\n",
      "To enable the following instructions: AVX2 AVX_VNNI FMA, in other operations, rebuild TensorFlow with the appropriate compiler flags.\n"
     ]
    }
   ],
   "source": [
    "import random\n",
    "import logging\n",
    "import sys\n",
    "from collections import deque\n",
    "from functools import partial\n",
    "\n",
    "import tensorflow as tf\n",
    "import numpy as np\n",
    "import seaborn as sns\n",
    "import matplotlib.pyplot as plt\n",
    "\n",
    "from src.simulation.simulation import Simulation, Vector2\n",
    "from src.simulation.board_generator import make_simple_board\n",
    "\n",
    "from src.model.model_utils import get_model_moves, get_model_scores, get_rotated_state\n",
    "\n",
    "tf.config.experimental.set_memory_growth(tf.config.list_physical_devices(\"GPU\")[0], True)"
   ]
  },
  {
   "cell_type": "code",
   "execution_count": 4,
   "id": "daccee82-833b-40cb-8d92-59b8082d83b3",
   "metadata": {},
   "outputs": [],
   "source": [
    "view_range = 7\n",
    "replay_buffer_size = 50000"
   ]
  },
  {
   "cell_type": "code",
   "execution_count": 5,
   "id": "5dceffbf-b19a-4665-a9d2-6327d543543d",
   "metadata": {},
   "outputs": [],
   "source": [
    "def calculate_score(ate_food: bool, died: bool):\n",
    "    if died:\n",
    "        return -10\n",
    "\n",
    "    if ate_food:\n",
    "        return 10\n",
    "\n",
    "    return 0"
   ]
  },
  {
   "cell_type": "code",
   "execution_count": 6,
   "id": "03d9ac60-7d20-4d5a-942f-419d212c1569",
   "metadata": {
    "scrolled": true
   },
   "outputs": [
    {
     "name": "stderr",
     "output_type": "stream",
     "text": [
      "I0000 00:00:1756729353.625539 1617802 gpu_device.cc:2019] Created device /job:localhost/replica:0/task:0/device:GPU:0 with 8027 MB memory:  -> device: 0, name: NVIDIA GeForce RTX 4090, pci bus id: 0000:01:00.0, compute capability: 8.9\n"
     ]
    },
    {
     "data": {
      "text/plain": [
       "<tf.Tensor: shape=(2, 4, 6), dtype=float32, numpy=\n",
       "array([[[0., 0., 0., 1., 0., 0.],\n",
       "        [0., 0., 1., 0., 0., 0.],\n",
       "        [0., 1., 0., 0., 0., 0.],\n",
       "        [0., 0., 0., 0., 0., 1.]],\n",
       "\n",
       "       [[0., 0., 0., 0., 0., 1.],\n",
       "        [0., 0., 0., 1., 0., 0.],\n",
       "        [0., 1., 0., 0., 0., 0.],\n",
       "        [0., 0., 0., 1., 0., 0.]]], dtype=float32)>"
      ]
     },
     "execution_count": 6,
     "metadata": {},
     "output_type": "execute_result"
    }
   ],
   "source": [
    "cat_encoding = tf.keras.layers.CategoryEncoding(num_tokens=6, output_mode=\"one_hot\")\n",
    "\n",
    "cat_encoding([[3, 2, 1, 5], [5, 3, 1, 3]])"
   ]
  },
  {
   "cell_type": "code",
   "execution_count": 7,
   "id": "fe9d561b-3043-4e7d-bc05-769d54539a59",
   "metadata": {},
   "outputs": [],
   "source": [
    "#online_model = tf.keras.Sequential([\n",
    "#    tf.keras.layers.Input((view_range * 2 + 1, view_range * 2 + 1)),\n",
    "#    tf.keras.layers.Flatten(),\n",
    "#    tf.keras.layers.CategoryEncoding(num_tokens=6, output_mode=\"one_hot\"),\n",
    "#    tf.keras.layers.Flatten(),\n",
    "#    tf.keras.layers.Dense(42, activation=\"relu\", kernel_initializer=\"he_normal\"),\n",
    "#    tf.keras.layers.Dense(42, activation=\"relu\", kernel_initializer=\"he_normal\"),\n",
    "#    tf.keras.layers.Dense(1)\n",
    "#])\n",
    "\n",
    "DefaultConv2D = partial(tf.keras.layers.Conv2D, kernel_size=3, padding=\"same\", activation=\"relu\", kernel_initializer=\"he_normal\")\n",
    "\n",
    "online_model = tf.keras.Sequential([\n",
    "    tf.keras.layers.Input((view_range * 2 + 1, view_range * 2 + 1)),\n",
    "    tf.keras.layers.CategoryEncoding(num_tokens=7, output_mode=\"one_hot\"),\n",
    "    DefaultConv2D(filters=32, kernel_size=7),\n",
    "    DefaultConv2D(filters=32, kernel_size=5),\n",
    "    tf.keras.layers.MaxPool2D(),\n",
    "    DefaultConv2D(filters=64),\n",
    "    DefaultConv2D(filters=64),\n",
    "    tf.keras.layers.GlobalAveragePooling2D(),\n",
    "    tf.keras.layers.Dense(32, activation=\"relu\", kernel_initializer=\"he_normal\"),\n",
    "    tf.keras.layers.Dense(32, activation=\"relu\", kernel_initializer=\"he_normal\"),\n",
    "    tf.keras.layers.Dense(1)\n",
    "])\n",
    "\n",
    "target_model = tf.keras.models.clone_model(online_model)\n",
    "target_model.set_weights(online_model.get_weights())\n",
    "\n",
    "convolutional = True"
   ]
  },
  {
   "cell_type": "code",
   "execution_count": 8,
   "id": "b8f37444-ca0a-43b1-8140-8760e68b8c80",
   "metadata": {},
   "outputs": [],
   "source": [
    "model_name = \"r7_conv_32-32_64-64_d_32-32_lr01\""
   ]
  },
  {
   "cell_type": "code",
   "execution_count": 9,
   "id": "61ba69ff-e773-44fc-9059-1cf8588877d8",
   "metadata": {},
   "outputs": [],
   "source": [
    "logging.basicConfig(level=logging.DEBUG)\n",
    "\n",
    "log_formatter = logging.Formatter(\"%(message)s\")\n",
    "\n",
    "std_handler = logging.StreamHandler(sys.stdout)\n",
    "std_handler.setLevel(logging.INFO)\n",
    "std_handler.setFormatter(log_formatter)\n",
    "\n",
    "file_handler = logging.FileHandler(f\"logs_{model_name}.log\")\n",
    "file_handler.setLevel(logging.INFO)\n",
    "file_handler.setFormatter(log_formatter)\n",
    "\n",
    "logger = logging.getLogger()\n",
    "logger.handlers.clear()\n",
    "#logger.addHandler(std_handler)\n",
    "logger.addHandler(file_handler)"
   ]
  },
  {
   "cell_type": "code",
   "execution_count": 10,
   "id": "b3400b2a-7e2c-4ed1-a01e-4007cdecb3c5",
   "metadata": {},
   "outputs": [
    {
     "data": {
      "text/html": [
       "<pre style=\"white-space:pre;overflow-x:auto;line-height:normal;font-family:Menlo,'DejaVu Sans Mono',consolas,'Courier New',monospace\"><span style=\"font-weight: bold\">Model: \"sequential\"</span>\n",
       "</pre>\n"
      ],
      "text/plain": [
       "\u001b[1mModel: \"sequential\"\u001b[0m\n"
      ]
     },
     "metadata": {},
     "output_type": "display_data"
    },
    {
     "data": {
      "text/html": [
       "<pre style=\"white-space:pre;overflow-x:auto;line-height:normal;font-family:Menlo,'DejaVu Sans Mono',consolas,'Courier New',monospace\">┏━━━━━━━━━━━━━━━━━━━━━━━━━━━━━━━━━┳━━━━━━━━━━━━━━━━━━━━━━━━┳━━━━━━━━━━━━━━━┓\n",
       "┃<span style=\"font-weight: bold\"> Layer (type)                    </span>┃<span style=\"font-weight: bold\"> Output Shape           </span>┃<span style=\"font-weight: bold\">       Param # </span>┃\n",
       "┡━━━━━━━━━━━━━━━━━━━━━━━━━━━━━━━━━╇━━━━━━━━━━━━━━━━━━━━━━━━╇━━━━━━━━━━━━━━━┩\n",
       "│ category_encoding_1             │ (<span style=\"color: #00d7ff; text-decoration-color: #00d7ff\">None</span>, <span style=\"color: #00af00; text-decoration-color: #00af00\">15</span>, <span style=\"color: #00af00; text-decoration-color: #00af00\">15</span>, <span style=\"color: #00af00; text-decoration-color: #00af00\">7</span>)      │             <span style=\"color: #00af00; text-decoration-color: #00af00\">0</span> │\n",
       "│ (<span style=\"color: #0087ff; text-decoration-color: #0087ff\">CategoryEncoding</span>)              │                        │               │\n",
       "├─────────────────────────────────┼────────────────────────┼───────────────┤\n",
       "│ conv2d (<span style=\"color: #0087ff; text-decoration-color: #0087ff\">Conv2D</span>)                 │ (<span style=\"color: #00d7ff; text-decoration-color: #00d7ff\">None</span>, <span style=\"color: #00af00; text-decoration-color: #00af00\">15</span>, <span style=\"color: #00af00; text-decoration-color: #00af00\">15</span>, <span style=\"color: #00af00; text-decoration-color: #00af00\">32</span>)     │        <span style=\"color: #00af00; text-decoration-color: #00af00\">11,008</span> │\n",
       "├─────────────────────────────────┼────────────────────────┼───────────────┤\n",
       "│ conv2d_1 (<span style=\"color: #0087ff; text-decoration-color: #0087ff\">Conv2D</span>)               │ (<span style=\"color: #00d7ff; text-decoration-color: #00d7ff\">None</span>, <span style=\"color: #00af00; text-decoration-color: #00af00\">15</span>, <span style=\"color: #00af00; text-decoration-color: #00af00\">15</span>, <span style=\"color: #00af00; text-decoration-color: #00af00\">32</span>)     │        <span style=\"color: #00af00; text-decoration-color: #00af00\">25,632</span> │\n",
       "├─────────────────────────────────┼────────────────────────┼───────────────┤\n",
       "│ max_pooling2d (<span style=\"color: #0087ff; text-decoration-color: #0087ff\">MaxPooling2D</span>)    │ (<span style=\"color: #00d7ff; text-decoration-color: #00d7ff\">None</span>, <span style=\"color: #00af00; text-decoration-color: #00af00\">7</span>, <span style=\"color: #00af00; text-decoration-color: #00af00\">7</span>, <span style=\"color: #00af00; text-decoration-color: #00af00\">32</span>)       │             <span style=\"color: #00af00; text-decoration-color: #00af00\">0</span> │\n",
       "├─────────────────────────────────┼────────────────────────┼───────────────┤\n",
       "│ conv2d_2 (<span style=\"color: #0087ff; text-decoration-color: #0087ff\">Conv2D</span>)               │ (<span style=\"color: #00d7ff; text-decoration-color: #00d7ff\">None</span>, <span style=\"color: #00af00; text-decoration-color: #00af00\">7</span>, <span style=\"color: #00af00; text-decoration-color: #00af00\">7</span>, <span style=\"color: #00af00; text-decoration-color: #00af00\">64</span>)       │        <span style=\"color: #00af00; text-decoration-color: #00af00\">18,496</span> │\n",
       "├─────────────────────────────────┼────────────────────────┼───────────────┤\n",
       "│ conv2d_3 (<span style=\"color: #0087ff; text-decoration-color: #0087ff\">Conv2D</span>)               │ (<span style=\"color: #00d7ff; text-decoration-color: #00d7ff\">None</span>, <span style=\"color: #00af00; text-decoration-color: #00af00\">7</span>, <span style=\"color: #00af00; text-decoration-color: #00af00\">7</span>, <span style=\"color: #00af00; text-decoration-color: #00af00\">64</span>)       │        <span style=\"color: #00af00; text-decoration-color: #00af00\">36,928</span> │\n",
       "├─────────────────────────────────┼────────────────────────┼───────────────┤\n",
       "│ global_average_pooling2d        │ (<span style=\"color: #00d7ff; text-decoration-color: #00d7ff\">None</span>, <span style=\"color: #00af00; text-decoration-color: #00af00\">64</span>)             │             <span style=\"color: #00af00; text-decoration-color: #00af00\">0</span> │\n",
       "│ (<span style=\"color: #0087ff; text-decoration-color: #0087ff\">GlobalAveragePooling2D</span>)        │                        │               │\n",
       "├─────────────────────────────────┼────────────────────────┼───────────────┤\n",
       "│ dense (<span style=\"color: #0087ff; text-decoration-color: #0087ff\">Dense</span>)                   │ (<span style=\"color: #00d7ff; text-decoration-color: #00d7ff\">None</span>, <span style=\"color: #00af00; text-decoration-color: #00af00\">32</span>)             │         <span style=\"color: #00af00; text-decoration-color: #00af00\">2,080</span> │\n",
       "├─────────────────────────────────┼────────────────────────┼───────────────┤\n",
       "│ dense_1 (<span style=\"color: #0087ff; text-decoration-color: #0087ff\">Dense</span>)                 │ (<span style=\"color: #00d7ff; text-decoration-color: #00d7ff\">None</span>, <span style=\"color: #00af00; text-decoration-color: #00af00\">32</span>)             │         <span style=\"color: #00af00; text-decoration-color: #00af00\">1,056</span> │\n",
       "├─────────────────────────────────┼────────────────────────┼───────────────┤\n",
       "│ dense_2 (<span style=\"color: #0087ff; text-decoration-color: #0087ff\">Dense</span>)                 │ (<span style=\"color: #00d7ff; text-decoration-color: #00d7ff\">None</span>, <span style=\"color: #00af00; text-decoration-color: #00af00\">1</span>)              │            <span style=\"color: #00af00; text-decoration-color: #00af00\">33</span> │\n",
       "└─────────────────────────────────┴────────────────────────┴───────────────┘\n",
       "</pre>\n"
      ],
      "text/plain": [
       "┏━━━━━━━━━━━━━━━━━━━━━━━━━━━━━━━━━┳━━━━━━━━━━━━━━━━━━━━━━━━┳━━━━━━━━━━━━━━━┓\n",
       "┃\u001b[1m \u001b[0m\u001b[1mLayer (type)                   \u001b[0m\u001b[1m \u001b[0m┃\u001b[1m \u001b[0m\u001b[1mOutput Shape          \u001b[0m\u001b[1m \u001b[0m┃\u001b[1m \u001b[0m\u001b[1m      Param #\u001b[0m\u001b[1m \u001b[0m┃\n",
       "┡━━━━━━━━━━━━━━━━━━━━━━━━━━━━━━━━━╇━━━━━━━━━━━━━━━━━━━━━━━━╇━━━━━━━━━━━━━━━┩\n",
       "│ category_encoding_1             │ (\u001b[38;5;45mNone\u001b[0m, \u001b[38;5;34m15\u001b[0m, \u001b[38;5;34m15\u001b[0m, \u001b[38;5;34m7\u001b[0m)      │             \u001b[38;5;34m0\u001b[0m │\n",
       "│ (\u001b[38;5;33mCategoryEncoding\u001b[0m)              │                        │               │\n",
       "├─────────────────────────────────┼────────────────────────┼───────────────┤\n",
       "│ conv2d (\u001b[38;5;33mConv2D\u001b[0m)                 │ (\u001b[38;5;45mNone\u001b[0m, \u001b[38;5;34m15\u001b[0m, \u001b[38;5;34m15\u001b[0m, \u001b[38;5;34m32\u001b[0m)     │        \u001b[38;5;34m11,008\u001b[0m │\n",
       "├─────────────────────────────────┼────────────────────────┼───────────────┤\n",
       "│ conv2d_1 (\u001b[38;5;33mConv2D\u001b[0m)               │ (\u001b[38;5;45mNone\u001b[0m, \u001b[38;5;34m15\u001b[0m, \u001b[38;5;34m15\u001b[0m, \u001b[38;5;34m32\u001b[0m)     │        \u001b[38;5;34m25,632\u001b[0m │\n",
       "├─────────────────────────────────┼────────────────────────┼───────────────┤\n",
       "│ max_pooling2d (\u001b[38;5;33mMaxPooling2D\u001b[0m)    │ (\u001b[38;5;45mNone\u001b[0m, \u001b[38;5;34m7\u001b[0m, \u001b[38;5;34m7\u001b[0m, \u001b[38;5;34m32\u001b[0m)       │             \u001b[38;5;34m0\u001b[0m │\n",
       "├─────────────────────────────────┼────────────────────────┼───────────────┤\n",
       "│ conv2d_2 (\u001b[38;5;33mConv2D\u001b[0m)               │ (\u001b[38;5;45mNone\u001b[0m, \u001b[38;5;34m7\u001b[0m, \u001b[38;5;34m7\u001b[0m, \u001b[38;5;34m64\u001b[0m)       │        \u001b[38;5;34m18,496\u001b[0m │\n",
       "├─────────────────────────────────┼────────────────────────┼───────────────┤\n",
       "│ conv2d_3 (\u001b[38;5;33mConv2D\u001b[0m)               │ (\u001b[38;5;45mNone\u001b[0m, \u001b[38;5;34m7\u001b[0m, \u001b[38;5;34m7\u001b[0m, \u001b[38;5;34m64\u001b[0m)       │        \u001b[38;5;34m36,928\u001b[0m │\n",
       "├─────────────────────────────────┼────────────────────────┼───────────────┤\n",
       "│ global_average_pooling2d        │ (\u001b[38;5;45mNone\u001b[0m, \u001b[38;5;34m64\u001b[0m)             │             \u001b[38;5;34m0\u001b[0m │\n",
       "│ (\u001b[38;5;33mGlobalAveragePooling2D\u001b[0m)        │                        │               │\n",
       "├─────────────────────────────────┼────────────────────────┼───────────────┤\n",
       "│ dense (\u001b[38;5;33mDense\u001b[0m)                   │ (\u001b[38;5;45mNone\u001b[0m, \u001b[38;5;34m32\u001b[0m)             │         \u001b[38;5;34m2,080\u001b[0m │\n",
       "├─────────────────────────────────┼────────────────────────┼───────────────┤\n",
       "│ dense_1 (\u001b[38;5;33mDense\u001b[0m)                 │ (\u001b[38;5;45mNone\u001b[0m, \u001b[38;5;34m32\u001b[0m)             │         \u001b[38;5;34m1,056\u001b[0m │\n",
       "├─────────────────────────────────┼────────────────────────┼───────────────┤\n",
       "│ dense_2 (\u001b[38;5;33mDense\u001b[0m)                 │ (\u001b[38;5;45mNone\u001b[0m, \u001b[38;5;34m1\u001b[0m)              │            \u001b[38;5;34m33\u001b[0m │\n",
       "└─────────────────────────────────┴────────────────────────┴───────────────┘\n"
      ]
     },
     "metadata": {},
     "output_type": "display_data"
    },
    {
     "data": {
      "text/html": [
       "<pre style=\"white-space:pre;overflow-x:auto;line-height:normal;font-family:Menlo,'DejaVu Sans Mono',consolas,'Courier New',monospace\"><span style=\"font-weight: bold\"> Total params: </span><span style=\"color: #00af00; text-decoration-color: #00af00\">95,233</span> (372.00 KB)\n",
       "</pre>\n"
      ],
      "text/plain": [
       "\u001b[1m Total params: \u001b[0m\u001b[38;5;34m95,233\u001b[0m (372.00 KB)\n"
      ]
     },
     "metadata": {},
     "output_type": "display_data"
    },
    {
     "data": {
      "text/html": [
       "<pre style=\"white-space:pre;overflow-x:auto;line-height:normal;font-family:Menlo,'DejaVu Sans Mono',consolas,'Courier New',monospace\"><span style=\"font-weight: bold\"> Trainable params: </span><span style=\"color: #00af00; text-decoration-color: #00af00\">95,233</span> (372.00 KB)\n",
       "</pre>\n"
      ],
      "text/plain": [
       "\u001b[1m Trainable params: \u001b[0m\u001b[38;5;34m95,233\u001b[0m (372.00 KB)\n"
      ]
     },
     "metadata": {},
     "output_type": "display_data"
    },
    {
     "data": {
      "text/html": [
       "<pre style=\"white-space:pre;overflow-x:auto;line-height:normal;font-family:Menlo,'DejaVu Sans Mono',consolas,'Courier New',monospace\"><span style=\"font-weight: bold\"> Non-trainable params: </span><span style=\"color: #00af00; text-decoration-color: #00af00\">0</span> (0.00 B)\n",
       "</pre>\n"
      ],
      "text/plain": [
       "\u001b[1m Non-trainable params: \u001b[0m\u001b[38;5;34m0\u001b[0m (0.00 B)\n"
      ]
     },
     "metadata": {},
     "output_type": "display_data"
    }
   ],
   "source": [
    "online_model.summary()"
   ]
  },
  {
   "cell_type": "code",
   "execution_count": 11,
   "id": "dff23521-cc83-4c53-9121-701a914b7752",
   "metadata": {},
   "outputs": [
    {
     "name": "stderr",
     "output_type": "stream",
     "text": [
      "WARNING: All log messages before absl::InitializeLog() is called are written to STDERR\n",
      "I0000 00:00:1756729354.099297 1626411 service.cc:152] XLA service 0x737c380156a0 initialized for platform CUDA (this does not guarantee that XLA will be used). Devices:\n",
      "I0000 00:00:1756729354.099313 1626411 service.cc:160]   StreamExecutor device (0): NVIDIA GeForce RTX 4090, Compute Capability 8.9\n",
      "2025-09-01 14:22:34.103996: I tensorflow/compiler/mlir/tensorflow/utils/dump_mlir_util.cc:269] disabling MLIR crash reproducer, set env var `MLIR_CRASH_REPRODUCER_DIRECTORY` to enable.\n",
      "I0000 00:00:1756729354.122201 1626411 cuda_dnn.cc:529] Loaded cuDNN version 90300\n"
     ]
    },
    {
     "name": "stdout",
     "output_type": "stream",
     "text": [
      "\u001b[1m1/1\u001b[0m \u001b[32m━━━━━━━━━━━━━━━━━━━━\u001b[0m\u001b[37m\u001b[0m \u001b[1m1s\u001b[0m 503ms/step\n"
     ]
    },
    {
     "name": "stderr",
     "output_type": "stream",
     "text": [
      "I0000 00:00:1756729354.541051 1626411 device_compiler.h:188] Compiled cluster using XLA!  This line is logged at most once for the lifetime of the process.\n"
     ]
    },
    {
     "data": {
      "text/plain": [
       "array([[-0.09491814]], dtype=float32)"
      ]
     },
     "execution_count": 11,
     "metadata": {},
     "output_type": "execute_result"
    }
   ],
   "source": [
    "simulation = Simulation(calculate_score)\n",
    "simulation.reset(make_simple_board(np.array([view_range * 2 + 1, view_range * 2 + 1])), 2, 1)\n",
    "\n",
    "online_model.predict(np.array([simulation.get_snake_view(0, convolutional, view_range)]))"
   ]
  },
  {
   "cell_type": "code",
   "execution_count": 12,
   "id": "aa6d2b90-d954-49a7-bcdf-8e06ec95a746",
   "metadata": {},
   "outputs": [
    {
     "data": {
      "text/plain": [
       "array([[1, 1, 1, 1, 1, 1, 1, 1, 1, 1, 1, 1, 1, 1, 1],\n",
       "       [1, 0, 0, 0, 0, 0, 0, 0, 0, 0, 0, 0, 0, 0, 1],\n",
       "       [1, 0, 0, 0, 0, 0, 0, 0, 0, 0, 0, 0, 0, 0, 1],\n",
       "       [1, 0, 0, 0, 0, 0, 0, 0, 0, 0, 0, 0, 0, 0, 1],\n",
       "       [1, 0, 0, 0, 0, 0, 0, 0, 0, 0, 0, 0, 0, 0, 1],\n",
       "       [1, 0, 0, 0, 0, 0, 0, 6, 0, 0, 0, 0, 0, 0, 1],\n",
       "       [1, 0, 0, 0, 0, 0, 0, 0, 0, 0, 0, 4, 0, 0, 1],\n",
       "       [1, 0, 0, 0, 0, 0, 0, 0, 0, 0, 2, 0, 0, 0, 1],\n",
       "       [1, 0, 0, 0, 0, 0, 0, 0, 0, 0, 0, 0, 0, 0, 1],\n",
       "       [1, 0, 0, 0, 0, 0, 0, 0, 0, 0, 0, 0, 0, 0, 1],\n",
       "       [1, 0, 0, 0, 0, 0, 0, 0, 0, 0, 0, 0, 0, 0, 1],\n",
       "       [1, 0, 0, 0, 0, 0, 0, 0, 0, 0, 0, 0, 0, 0, 1],\n",
       "       [1, 0, 0, 0, 0, 0, 0, 0, 0, 0, 0, 0, 0, 0, 1],\n",
       "       [1, 0, 0, 0, 0, 0, 0, 0, 0, 0, 0, 0, 0, 0, 1],\n",
       "       [1, 1, 1, 1, 1, 1, 1, 1, 1, 1, 1, 1, 1, 1, 1]])"
      ]
     },
     "execution_count": 12,
     "metadata": {},
     "output_type": "execute_result"
    }
   ],
   "source": [
    "simulation.get_snake_view(0, True)"
   ]
  },
  {
   "cell_type": "code",
   "execution_count": 13,
   "id": "611e9fd2-5d60-4e9d-9906-b01e478941ff",
   "metadata": {},
   "outputs": [
    {
     "data": {
      "text/plain": [
       "<tf.Tensor: shape=(1, 15, 15, 7), dtype=float32, numpy=\n",
       "array([[[[0., 1., 0., ..., 0., 0., 0.],\n",
       "         [0., 1., 0., ..., 0., 0., 0.],\n",
       "         [0., 1., 0., ..., 0., 0., 0.],\n",
       "         ...,\n",
       "         [0., 1., 0., ..., 0., 0., 0.],\n",
       "         [0., 1., 0., ..., 0., 0., 0.],\n",
       "         [0., 1., 0., ..., 0., 0., 0.]],\n",
       "\n",
       "        [[0., 1., 0., ..., 0., 0., 0.],\n",
       "         [1., 0., 0., ..., 0., 0., 0.],\n",
       "         [1., 0., 0., ..., 0., 0., 0.],\n",
       "         ...,\n",
       "         [1., 0., 0., ..., 0., 0., 0.],\n",
       "         [1., 0., 0., ..., 0., 0., 0.],\n",
       "         [0., 1., 0., ..., 0., 0., 0.]],\n",
       "\n",
       "        [[0., 1., 0., ..., 0., 0., 0.],\n",
       "         [1., 0., 0., ..., 0., 0., 0.],\n",
       "         [1., 0., 0., ..., 0., 0., 0.],\n",
       "         ...,\n",
       "         [1., 0., 0., ..., 0., 0., 0.],\n",
       "         [1., 0., 0., ..., 0., 0., 0.],\n",
       "         [0., 1., 0., ..., 0., 0., 0.]],\n",
       "\n",
       "        ...,\n",
       "\n",
       "        [[0., 1., 0., ..., 0., 0., 0.],\n",
       "         [1., 0., 0., ..., 0., 0., 0.],\n",
       "         [1., 0., 0., ..., 0., 0., 0.],\n",
       "         ...,\n",
       "         [1., 0., 0., ..., 0., 0., 0.],\n",
       "         [1., 0., 0., ..., 0., 0., 0.],\n",
       "         [0., 1., 0., ..., 0., 0., 0.]],\n",
       "\n",
       "        [[0., 1., 0., ..., 0., 0., 0.],\n",
       "         [1., 0., 0., ..., 0., 0., 0.],\n",
       "         [1., 0., 0., ..., 0., 0., 0.],\n",
       "         ...,\n",
       "         [1., 0., 0., ..., 0., 0., 0.],\n",
       "         [1., 0., 0., ..., 0., 0., 0.],\n",
       "         [0., 1., 0., ..., 0., 0., 0.]],\n",
       "\n",
       "        [[0., 1., 0., ..., 0., 0., 0.],\n",
       "         [0., 1., 0., ..., 0., 0., 0.],\n",
       "         [0., 1., 0., ..., 0., 0., 0.],\n",
       "         ...,\n",
       "         [0., 1., 0., ..., 0., 0., 0.],\n",
       "         [0., 1., 0., ..., 0., 0., 0.],\n",
       "         [0., 1., 0., ..., 0., 0., 0.]]]], dtype=float32)>"
      ]
     },
     "execution_count": 13,
     "metadata": {},
     "output_type": "execute_result"
    }
   ],
   "source": [
    "tf.keras.layers.CategoryEncoding(num_tokens=7, output_mode=\"one_hot\")([simulation.get_snake_view(0, True)])"
   ]
  },
  {
   "cell_type": "code",
   "execution_count": 14,
   "id": "e3d10c28-6166-453f-af12-fc5e93fc8ca9",
   "metadata": {},
   "outputs": [],
   "source": [
    "def epsilon_greedy(snakes_states: list[np.ndarray], snakes_possible_moves: list[list[Vector2]], snakes_alive: list[bool], epsilon: float=0.):\n",
    "    n_snakes = len(snakes_states)\n",
    "\n",
    "    process_mask = [True for _ in range(n_snakes)]\n",
    "    \n",
    "    for i, alive in enumerate(snakes_alive):\n",
    "        if not alive or np.random.rand() < epsilon:\n",
    "            process_mask[i] = False\n",
    "\n",
    "    moves = get_model_moves(online_model, snakes_states, snakes_possible_moves, process_mask, softmax=True)\n",
    "\n",
    "    for i, move in enumerate(moves):\n",
    "        if move == (0, 0):\n",
    "            moves[i] = random.choice(simulation.get_legal_moves(i))\n",
    "\n",
    "    return moves"
   ]
  },
  {
   "cell_type": "code",
   "execution_count": 15,
   "id": "560f3b77-eff6-4a8c-b23e-019788dd25b3",
   "metadata": {},
   "outputs": [],
   "source": [
    "replay_buffer = deque(maxlen=replay_buffer_size)"
   ]
  },
  {
   "cell_type": "code",
   "execution_count": 16,
   "id": "680203fa-c1f0-49ee-ac99-f325b3bed794",
   "metadata": {},
   "outputs": [],
   "source": [
    "def play_one_step(simulation: Simulation, states_before: list[np.ndarray], possible_moves_before: list[Vector2], snakes_alive_before: list[bool], epsilon: float):\n",
    "    # Save states\n",
    "    moves = epsilon_greedy(states_before, possible_moves_before, snakes_alive_before, epsilon)\n",
    "\n",
    "    scores, running = simulation.next(moves)\n",
    "\n",
    "    states_after = [simulation.get_snake_view(i, convolutional, view_range) for i in range(simulation.n_snakes)]\n",
    "    possible_moves_after = [simulation.get_legal_moves(i) for i in range(simulation.n_snakes)]\n",
    "    snakes_alive_after = simulation.snakes_alive\n",
    "\n",
    "    for i in range(len(states_before)):\n",
    "        if snakes_alive_before[i]:\n",
    "            replay_buffer.append((states_before[i], moves[i], scores[i], states_after[i], possible_moves_after[i], snakes_alive_after[i]))\n",
    "\n",
    "    return states_after, possible_moves_after, snakes_alive_after, scores, running"
   ]
  },
  {
   "cell_type": "code",
   "execution_count": 17,
   "id": "8cb2f51b-7b10-487f-871e-6db93422d811",
   "metadata": {},
   "outputs": [],
   "source": [
    "def sample_experiences(batch_size: int):\n",
    "    idxs = np.random.randint(len(replay_buffer), size=batch_size)\n",
    "    \n",
    "    batch = [replay_buffer[idx] for idx in idxs]\n",
    "\n",
    "    return [\n",
    "        [experience[field_idx] for experience in batch]\n",
    "        for field_idx in range(6)\n",
    "    ]"
   ]
  },
  {
   "cell_type": "code",
   "execution_count": 18,
   "id": "40a5371d-b644-46db-ba3c-ddf141903eef",
   "metadata": {},
   "outputs": [],
   "source": [
    "batch_size = 32\n",
    "discount_factor = 0.9\n",
    "loss_fn = tf.keras.losses.mse\n",
    "optimizer = tf.keras.optimizers.Nadam(learning_rate=0.01)\n",
    "\n",
    "losses = []\n",
    "\n",
    "\n",
    "def training_step():\n",
    "    experiences = sample_experiences(batch_size)\n",
    "    states, moves, scores, states_after, possible_moves_after, snakes_alive_after = experiences\n",
    "\n",
    "    best_next_moves = [[move] for move in get_model_moves(online_model, states_after, possible_moves_after, snakes_alive_after)]\n",
    "    next_q_values = get_model_scores(target_model, states_after, best_next_moves, snakes_alive_after)\n",
    "    \n",
    "    #next_q_values = get_model_scores(target_model, states_after, possible_moves_after, snakes_alive_after)\n",
    "    runs = 1.0 - np.array(snakes_alive_after)\n",
    "    \n",
    "    target_q_values = scores + runs * discount_factor * next_q_values\n",
    "\n",
    "    X = tf.constant([get_rotated_state(state, move) for state, move in zip(states, moves)])\n",
    "    \n",
    "    with tf.GradientTape() as tape:\n",
    "        predicted_q_values = online_model(X)\n",
    "        loss = tf.reduce_mean(loss_fn(target_q_values, predicted_q_values))\n",
    "\n",
    "    losses.append(loss.numpy())\n",
    "    grads = tape.gradient(loss, online_model.trainable_variables)\n",
    "    optimizer.apply_gradients(zip(grads, online_model.trainable_variables))"
   ]
  },
  {
   "cell_type": "code",
   "execution_count": null,
   "id": "5b34dd6a-b936-4ab2-832f-325145024853",
   "metadata": {
    "scrolled": true
   },
   "outputs": [],
   "source": [
    "simulation = Simulation(calculate_score)\n",
    "rewards = []\n",
    "steps = []\n",
    "replay_buffer.clear()\n",
    "\n",
    "best_model_window = 14\n",
    "best_model_rewards = float(\"-inf\")\n",
    "\n",
    "n_episodes = 100000\n",
    "\n",
    "for episode in range(n_episodes):\n",
    "    simulation.reset(make_simple_board(np.array([15, 15])), snake_count=1, food_count=2)\n",
    "\n",
    "    rewards.append(0)\n",
    "\n",
    "    states = [simulation.get_snake_view(i, convolutional, view_range) for i in range(simulation.n_snakes)]\n",
    "    possible_moves = [simulation.get_legal_moves(i) for i in range(simulation.n_snakes)]\n",
    "    snakes_alive = simulation.snakes_alive\n",
    "\n",
    "    for step in range(200):\n",
    "        epsilon = max(1 - (episode / (n_episodes * 0.8)), 0.005)\n",
    "        #discount_factor = 0.95 * (episode / n_episodes)\n",
    "        \n",
    "        states, possible_moves, snakes_alive, scores, running = play_one_step(simulation, states, possible_moves, snakes_alive, epsilon)\n",
    "\n",
    "        rewards[-1] += sum(scores)\n",
    "\n",
    "        if not running:\n",
    "            break\n",
    "\n",
    "    steps.append(step)\n",
    "\n",
    "    logging.info(f\"Episode {episode} played\")\n",
    "    logging.info(f\"\\tSteps: {step}\")\n",
    "    logging.info(f\"\\tRewards: {rewards[-1]}\")\n",
    "\n",
    "    if episode > 200:\n",
    "        curr_model_rewards = sum(rewards[-best_model_window:])\n",
    "        if curr_model_rewards > best_model_rewards:\n",
    "            avg_rewards = curr_model_rewards / best_model_window\n",
    "            online_model.save(f\"models/{model_name}_{round(avg_rewards)}_snapshot.keras\")\n",
    "            best_model_rewards = curr_model_rewards\n",
    "            logging.info(f\"\\tSnaphshot saved (avg. {avg_rewards})\")\n",
    "\n",
    "        training_step()\n",
    "        logging.info(\"\\tTraining finished\")\n",
    "        \n",
    "        if episode % 100 == 0:\n",
    "            target_model.set_weights(online_model.get_weights())\n",
    "            logging.info(\"\\tTarget model updated\")"
   ]
  },
  {
   "cell_type": "code",
   "execution_count": null,
   "id": "11d5844b-e610-4de5-a7a1-44aaebfb35ce",
   "metadata": {},
   "outputs": [],
   "source": [
    "#sns.lineplot(steps, label=\"steps\")\n",
    "fig, ax = plt.subplots(figsize=(16,6))\n",
    "sns.lineplot(np.convolve(rewards, [1 for _ in range(10)]))\n",
    "plt.xlabel(\"Episode\")\n",
    "plt.ylabel(\"Reward\")"
   ]
  },
  {
   "cell_type": "code",
   "execution_count": null,
   "id": "80a5368a-fc9c-4af1-bd45-ba327d6a8000",
   "metadata": {},
   "outputs": [],
   "source": [
    "fig, ax = plt.subplots(figsize=(16,6))\n",
    "sns.lineplot(np.convolve(losses, [1 for _ in range(10)]), ax=ax)\n",
    "plt.xlabel(\"Episode\")\n",
    "plt.ylabel(\"Loss\")"
   ]
  },
  {
   "cell_type": "code",
   "execution_count": null,
   "id": "d3d2973a-9bca-43f0-afd9-c19ac610e877",
   "metadata": {},
   "outputs": [],
   "source": [
    "fig, ax = plt.subplots(figsize=(16,6))\n",
    "sns.lineplot(np.cumsum(rewards), label=\"rewards\", ax=ax)\n",
    "plt.xlabel(\"Episode\")\n",
    "plt.ylabel(\"Reward\")"
   ]
  },
  {
   "cell_type": "code",
   "execution_count": null,
   "id": "5b0760a4-0202-4577-9306-8d4f2c5bf378",
   "metadata": {},
   "outputs": [],
   "source": [
    "online_model.save(f\"models/{model_name}.keras\")"
   ]
  }
 ],
 "metadata": {
  "kernelspec": {
   "display_name": "Python 3 (ipykernel)",
   "language": "python",
   "name": "python3"
  },
  "language_info": {
   "codemirror_mode": {
    "name": "ipython",
    "version": 3
   },
   "file_extension": ".py",
   "mimetype": "text/x-python",
   "name": "python",
   "nbconvert_exporter": "python",
   "pygments_lexer": "ipython3",
   "version": "3.10.12"
  }
 },
 "nbformat": 4,
 "nbformat_minor": 5
}
